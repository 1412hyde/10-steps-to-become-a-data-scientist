{
 "cells": [
  {
   "cell_type": "markdown",
   "metadata": {
    "_uuid": "9f550639a0754f42a243e5785d895d24ba655515"
   },
   "source": [
    "\n",
    "<img src=\"http://s9.picofile.com/file/8338833934/DS.png\"/>"
   ]
  },
  {
   "cell_type": "markdown",
   "metadata": {
    "_uuid": "e02d495da0fb0ad24e0341e91848f4c4cfc35bdb"
   },
   "source": [
    "\n",
    "\n",
    "---------------------------------------------------------------------\n",
    "Fork and Run this kernel on GitHub:\n",
    "> ###### [ GitHub](https://github.com/mjbahmani/10-steps-to-become-a-data-scientist)\n",
    "\n",
    "\n",
    "-------------------------------------------------------------------------------------------------------------\n",
    " **I hope you find this kernel helpful and some UPVOTES would be very much appreciated**\n",
    " \n",
    " -----------\n"
   ]
  },
  {
   "cell_type": "markdown",
   "metadata": {
    "_uuid": "85b27cf82d3023fd69c338df2be7afb2d7afaf32"
   },
   "source": [
    " <a id=\"0\"></a> <br>\n",
    "**Notebook Content**\n",
    "1. [Python](#1)\n",
    "1. [Python Packages](#11)\n",
    "1. [Mathematics and Linear Algebra](#46)\n",
    "1. [Programming & Analysis Tools](#47)\n",
    "1. [Big Data](#49)\n",
    "1. [Data visualization](#50)\n",
    "1. [Data Cleaning](#51)\n",
    "1. [How to solve Problem?](#52)\n",
    "1. [Machine Learning](#53)\n",
    "1. [Deep Learning](#54)"
   ]
  },
  {
   "cell_type": "markdown",
   "metadata": {},
   "source": [
    " ## <div align=\"center\">  10 Steps to Become a Data Scientist</div>\n",
    " <div align=\"center\">**quite practical and far from any theoretical concepts**</div>\n",
    "<div style=\"text-align:center\">last update: <b>10/16/2018</b></div>"
   ]
  },
  {
   "cell_type": "markdown",
   "metadata": {},
   "source": [
    "<a id=\"1\"></a> <br>\n",
    "## 1-python\n",
    "\n",
    "for Reading this section **please** fork and upvote  this kernel:\n",
    "\n",
    "[Linear Algebra in 60 Minutes](https://www.kaggle.com/mjbahmani/linear-algebra-in-60-minutes)"
   ]
  },
  {
   "cell_type": "markdown",
   "metadata": {},
   "source": [
    "<a id=\"2\"></a> <br>\n",
    "## 2- Python Packages\n",
    "\n",
    "for Reading this section **please** fork and upvote  this kernel:\n",
    "\n",
    "[Linear Algebra in 60 Minutes](https://www.kaggle.com/mjbahmani/linear-algebra-in-60-minutes)"
   ]
  },
  {
   "cell_type": "markdown",
   "metadata": {
    "_uuid": "ad8fa54ba57aa4a336080eb044109702c743d7a0"
   },
   "source": [
    "<a id=\"45\"></a> <br>\n",
    "##  3- Mathematics and Linear Algebra\n",
    "\n",
    "for Reading this section **please** fork and upvote  this kernel:\n",
    "\n",
    "[Linear Algebra in 60 Minutes](https://www.kaggle.com/mjbahmani/linear-algebra-in-60-minutes)"
   ]
  },
  {
   "cell_type": "markdown",
   "metadata": {
    "_uuid": "697ba206ad7adf4d99814cb1d89375b745eaba19"
   },
   "source": [
    "<a id=\"46\"></a> <br>\n",
    "## 4- Programming & Analysis Tools\n",
    "we will release the full version of Deep Learning **Coming Soon**"
   ]
  },
  {
   "cell_type": "markdown",
   "metadata": {
    "_uuid": "00f5c5ce80c7e302e83f0ea9b451dfaae7aa52cf"
   },
   "source": [
    "## 5- Big Data\n",
    "we will release the full version of Deep Learning **Coming Soon**"
   ]
  },
  {
   "cell_type": "markdown",
   "metadata": {
    "_uuid": "33bb9c265bef5e4474dcac0638cc632b5532f1ce"
   },
   "source": [
    "## 6- Data Visualization\n",
    "we will release the full version of Deep Learning **Coming Soon**"
   ]
  },
  {
   "cell_type": "markdown",
   "metadata": {
    "_uuid": "9bf1d9444651e2756c4fa4d71914ec20d621305e"
   },
   "source": [
    "## 7- Data Cleaning\n",
    "we will release the full version of Deep Learning **Coming Soon**"
   ]
  },
  {
   "cell_type": "markdown",
   "metadata": {
    "_uuid": "8720a4ddaab64e4bff226bed9e4e200dc9b94913"
   },
   "source": [
    "## 8- How to solve Problem?\n",
    "**Data Science has so many techniques and procedures that can confuse anyone.**\n",
    "\n",
    "**Step 1**: Translate your business problem statement into technical one\n",
    "\n",
    "Analogous to any other software problem, data science aims at solving a business problem. Most of the times, business problem statements are vague and can be interpreted in multiple ways. This occurs mostly because we generally use qualitative words in our language which cannot be directly translated into a machine readable code.\n",
    "\n",
    "Eg. Let’s say we need to develop a solution to reduce crime rate of a city. The term “reduce” can be interpreted as:\n",
    "\n",
    "Decreasing crime rate of areas with high crime rate\n",
    "Decreasing crime rate of the most common type of crime\n",
    "It is a good practice to circle back with the client or the business team who define the problem to decide on the right interpretation.\n",
    "\n",
    "**Step 2**: Decide on the supervised learning technique\n",
    "\n",
    "The end goal of almost every data science problem is usually classification or regression. Deciding the supervised technique for the problem will help you get more clarity on the business statement.\n",
    "\n",
    "Eg. Let’s look at our problem of reducing crime rate. While the problem of reducing crime rate is more of a policy decision, depending on the choice above, we would have to decide if we need to do classification or regression.\n",
    "\n",
    "If we need to decrease crime rate of areas with high crime rate, we would need to determine the crime rate rate of an area. This is a regression problem.\n",
    "If we need to decrease crime rate of most common type of crime, we would need to determine the most common type of crime in an area. This is a classification problem.\n",
    "Again it is a good practice to circle back with the client or the business team who define the problem requirements to clarify on the exact requirement.\n",
    "\n",
    "**Step 3**: Literature survey\n",
    "\n",
    "Literature Survey is one of the most important step (and often most ignored step) to approach any problem. If you read any article about components of Data Science, you will find computer science, statistics / math and domain knowledge. As it is quite inhuman for someone to have subject expertise in all possible fields, literature survey can often help in bridging the gaps of inadequate subject expertise.\n",
    "\n",
    "After going through existing literature related to a problem, I usually try to come up with a set of hypotheses that could form my potential set of features. Going through existing literature helps you understand existing proofs in the domain serving as a guide to take the right direction in your problem. It also helps in interpretation of the results obtained from the prediction models.\n",
    "\n",
    "Eg. Going back to our problem of reducing crime rate, if you want to predict crime rate of an area, you would consider factors from general knowledge like demographics, neighboring areas, law enforcement rules etc. Literature survey will help you consider additional variables like climate, mode of transportation, divorce rate etc.\n",
    "\n",
    "**Step 4**: Data cleaning\n",
    "\n",
    "If you speak with anyone who has spent some time in data science, they will always say that most of their time is spent on cleaning the data. Real world data is always messy. Here are a few common discrepancies in most data-sets and some techniques of how to clean them:\n",
    "\n",
    "Missing values\n",
    "Missing values are values that are blank in the data-set. This can be due to various reasons like value being unknown, unrecorded, confidential etc. Since the reason for a value being missing is not clear, it is hard to guess the value.\n",
    "\n",
    "You could try different techniques to impute missing values starting with simple methods like column mean, median etc. and complex methods like using machine leaning models to estimate missing values.\n",
    "\n",
    "Duplicate records\n",
    "The challenge with duplicate records is identifying a record being duplicate. Duplicate records often occur while merging data from multiple sources. It could also occur due to human error. To identify duplicates, you could approximate a numeric values to certain decimal places and for text values, fuzzy matching could be a good start. Identification of duplicates could help the data engineering team to improve collection of data to prevent such errors.\n",
    "\n",
    "Incorrect values\n",
    "Incorrect values are mostly due to human error. For Eg. If there is a field called age and the value is 500, it is clearly wrong. Having domain knowledge of the data will help identify such values. A good technique to identify incorrect values for numerical columns could be to manually look at values beyond 3 standard deviations from the mean to check for correctness.\n",
    "\n",
    "**Step 5**: Feature engineering\n",
    "\n",
    "Feature Engineering is one of the most important step in any data science problem. Good set of features might make simple models work for your data. If features are not good enough, you might need to go for complex models. Feature Engineering mostly involves:\n",
    "\n",
    "Removing redundant features\n",
    "If a feature is not contributing a lot to the output value or is a function of other features, you can remove the feature. There are various metrics like AIC and BIC to identify redundant features. There are built in packages to perform operations like forward selection, backward selection etc. to remove redundant features.\n",
    "\n",
    "Transforming a feature\n",
    "A feature might have a non linear relationship with the output column. While complex models can capture this with enough data, simple models might not be able to capture this. I usually try to visualize different functions of each column like log, inverse, quadratic, cubic etc. and choose the transformation that looks closest to a normal curve.\n",
    "\n",
    "**Step 6**: Data modification\n",
    "\n",
    "Once the data is cleaned, there are a few modifications that might be needed before applying machine learning models. One of the most common modification would be scaling every column to the same range in order to give same weight to all columns. Some of the other required modifications might be data specific Eg. If output column is skewed, you might need to up-sample or down-sample.\n",
    "\n",
    "Steps 7 through 9 are iterative.\n",
    "\n",
    "**Step 7**: Modelling\n",
    "\n",
    "Once I have the data ready, I usually start with trying all the standard machine learning models. If it is a classification problem, a good start will beLogistic Regression, Naive Bayes, k-Nearest Neighbors, Decision Tree etc. If it is a regression problem, you could try linear regression, regression tree etc. The reason for starting with simple models is that simple models have lesser parameters to alter. If we start with a complex model like Neural Network orSupport Vector Machines, there are so many parameters that you could change that trying all options exhaustively might be time consuming.\n",
    "\n",
    "Each of the machine learning models make some underlying assumptions about the data. For Eg. Linear Regression / Logistic Regression assumes that the data comes from a linear combination of input parameters. Naive Bayes makes an assumption that the input parameters are independent of each other. Having the knowledge of these assumptions can help you judge the results of the different models. It is often helpful to visualize the actual vs predicted values to see these differences.\n",
    "\n",
    "**Step 8**: Model comparison\n",
    "\n",
    "One of the most standard technique to evaluate different machine learning models would be through the process of cross validation. I usually choose 10-fold cross validation but you may choose the right cross validation split based on the size of the data. Cross validation basically brings out an average performance of a model. This can help eliminate choosing a model that performs good specific to the data or in other words avoid over-fitting. It is often a good practice to randomize data before cross validation.\n",
    "\n",
    "A good technique to compare performance of different models is ROC curves. ROC curves help you visualize performance of different models across different thresholds. While ROC curves give a holistic sense of model performance, based on the business decision, you must choose the performance metric like Accuracy, True Positive Rate, False Positive Rate, F1-Score etc.\n",
    "\n",
    "**Step 9**: Error analysis\n",
    "\n",
    "At this point, you have tried a bunch of machine learning models and got the results. It is a good usage of time to not just look at the results like accuracy or True Positive Rate but to look at the set of data points that failed in some of the models. This will help you understand the data better and improve the models faster than trying all possible combinations of models. This is the time to try ensemble models like Random Forest, Gradient Boosting or a meta model of your own [Eg. Decision tree + Logistic Regression]. Ensemble models are almost always guaranteed to perform better than any standard model.\n",
    "\n",
    "**Step 10**: Improving your best model\n",
    "\n",
    "Once I have the best model, I usually plot training vs testing accuracy [or the right metric] against the number of parameters. Usually, it is easy to check training and testing accuracy against number of data points. Basically this plot will tell you whether your model is over-fitting or under-fitting. This articleDetecting over-fitting vs under-fitting explains this concept clearly.\n",
    "\n",
    "Understanding if your model is over-fitting or under-fitting will tell you how to proceed with the next steps. If the model is over-fitting, you might consider collecting more data. If the model is under-fitting, you might consider making the models more complex. [Eg. Adding higher order terms to a linear / logistic regression]\n",
    "\n",
    "**Step 11**: Deploying the model\n",
    "\n",
    "Once you have your final model, you would want the model to be deployed so that it automatically predicts output for new data point without retraining. While you can derive a formula for simple models like Linear Regression, Logistic Regression, Decision Tree etc. , it is not so straight forward for complex models like SVM, Neural Networks, Random Forest etc. I’m not very familiar with other languages but Python has a library called pickle which allows you to save models and use it to predict output for new data.\n",
    "\n",
    "**Step 12**: Adding feedback\n",
    "\n",
    "Usually, data for any data science problem is historical data. While this might be similar to the current data up-to a certain degree, it might not be able to capture the current trends or changes. For Eg. If you are using population as an input parameter, while population from 2015–2016 might vary slightly, if you use the model after 5 years, it might give incorrect results.\n",
    "\n",
    "One way to deal with this problem is to keep retraining your model with additional data. This might be a good option but retraining a model might be time consuming. Also, if you have applications in which data inflow is huge, this might need to be done at regular intervals. An alternative and a better option would be to use active learning. Active learning basically tries to use real time data as feedback and automatically update the model. The most common approaches to do this are Batch Gradient Descent and Stochastic Gradient Descent. It might be appropriate to use the right approach based on the application.\n",
    "\n",
    "Concluding remarks\n",
    "\n",
    "The field of data science is really vast. People spend their lifetime researching on individual topics discussed above. As a data scientist, you would mostly have to solve business problems than researching on individual subtopics. Additionally, you will have to explain the technical process and results to business teams who might not have enough technical knowledge. Thus, while you might not need a very in-depth knowledge of every technique, you need to have enough clarity to abstract the technical process and results and explain it in business terms.[3]\n"
   ]
  },
  {
   "cell_type": "markdown",
   "metadata": {
    "_uuid": "d4f8718cc7e1a8fc60a3815b55a2ab9a5eeef4f9"
   },
   "source": [
    "## 9- Machine learning  \n",
    "for Reading this section **please** fork and upvote  this kernel:\n",
    "\n",
    "[A Comprehensive ML Workflow with Python](http://https://www.kaggle.com/mjbahmani/a-comprehensive-ml-workflow-with-python)\n",
    "\n"
   ]
  },
  {
   "cell_type": "markdown",
   "metadata": {
    "_uuid": "3544d2fd1490f646f2f1c0fd4271f9a8745d2e36"
   },
   "source": [
    "##  10- Deep Learning\n",
    "\n",
    "for Reading this section **please** fork and upvote  this kernel:\n",
    "\n",
    "[A-Comprehensive-Deep-Learning-Workflow-with-Python](https://www.kaggle.com/mjbahmani/a-comprehensive-deep-learning-workflow-with-python)\n"
   ]
  },
  {
   "cell_type": "markdown",
   "metadata": {
    "_uuid": "3065412feed4f072e90154bb3eaed0fc3504d88d",
    "collapsed": true
   },
   "source": [
    "## References:\n",
    "1. [Coursera](https://www.coursera.org/specializations/data-science-python)\n",
    "2. [Hands-On Machine Learning with Scikit-Learn and TensorFlow](http://shop.oreilly.com/product/0636920052289.do)\n",
    "3. [How to solve Problem](https://www.linkedin.com/pulse/how-i-approach-data-science-problem-ganesh-n-prasad/)"
   ]
  },
  {
   "cell_type": "markdown",
   "metadata": {
    "_uuid": "edb768e0b3390ec29acab20593948c3f3bbf5bba",
    "collapsed": true
   },
   "source": [
    "---------------------------------------------------------------------\n",
    "Fork and Run this kernel on GitHub:\n",
    "> ###### [ GitHub](https://github.com/mjbahmani/10-steps-to-become-a-data-scientist)\n",
    "\n",
    " \n",
    "\n",
    "-------------------------------------------------------------------------------------------------------------\n",
    " **I hope you find this kernel helpful and some UPVOTES would be very much appreciated**\n",
    " \n",
    " -----------"
   ]
  },
  {
   "cell_type": "markdown",
   "metadata": {
    "_uuid": "e07313484155d573b97e7d21e6be7a60dc6768e3",
    "collapsed": true
   },
   "source": [
    "**Not completed yet!!!**\n",
    "\n",
    "**Update every two days**"
   ]
  },
  {
   "cell_type": "code",
   "execution_count": null,
   "metadata": {
    "_uuid": "15278765f89f04a99d9ae1003f35ff06b577af0e",
    "collapsed": true
   },
   "outputs": [],
   "source": []
  }
 ],
 "metadata": {
  "kernelspec": {
   "display_name": "Python 3",
   "language": "python",
   "name": "python3"
  },
  "language_info": {
   "codemirror_mode": {
    "name": "ipython",
    "version": 3
   },
   "file_extension": ".py",
   "mimetype": "text/x-python",
   "name": "python",
   "nbconvert_exporter": "python",
   "pygments_lexer": "ipython3",
   "version": "3.6.1"
  }
 },
 "nbformat": 4,
 "nbformat_minor": 1
}
